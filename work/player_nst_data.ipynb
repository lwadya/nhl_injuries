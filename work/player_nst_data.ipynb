{
 "cells": [
  {
   "cell_type": "markdown",
   "metadata": {},
   "source": [
    "# Natural Stat Trick Player Data\n",
    "I collected the last ten regular seasons of player statistical, biographical, and biometric data from the website Natural Stat Trick. The site provides easy access to data in CSV form by season, but statistical and biographical data are in separate tables. I combined all of the data into a single table and removed any unnecessary fields."
   ]
  },
  {
   "cell_type": "markdown",
   "metadata": {},
   "source": [
    "### 1. Imports and Functions\n",
    "* **var_to_pickle**: Writes the given variable to a pickle file\n",
    "* **nst_files_to_df**: Loads Natural Stat Trick CSV files that have given prefix from data directory and combines them into a single DataFrame"
   ]
  },
  {
   "cell_type": "code",
   "execution_count": 1,
   "metadata": {},
   "outputs": [],
   "source": [
    "import pandas as pd\n",
    "import numpy as np\n",
    "\n",
    "from nhl_injuries_code import var_to_pickle, nst_files_to_df"
   ]
  },
  {
   "cell_type": "markdown",
   "metadata": {},
   "source": [
    "### 2. Create DataFrames from CSVs\n",
    "Prefixes are CSV file prefixes for several seasons of files, old_cols are columns I want to keep from the CSV data, and new_cols are new names for the old_cols."
   ]
  },
  {
   "cell_type": "code",
   "execution_count": 2,
   "metadata": {},
   "outputs": [],
   "source": [
    "stats_prefix = 'skaters_stats_'\n",
    "stats_old_cols = ['Player', 'Team', 'Position', 'GP', 'TOI', 'Total Points', 'Shots', 'PIM',\n",
    "                  'Major', 'Penalties Drawn', 'Hits', 'Hits Taken', 'Shots Blocked', 'Season']\n",
    "stats_new_cols = ['Name', 'Team', 'Position', 'Games_Played', 'Time_On_Ice', 'Points',\n",
    "                  'Shots', 'Penalty_Minutes', 'Major_Penalties', 'Penalties_Drawn', 'Hits',\n",
    "                  'Hits_Taken', 'Shots_Blocked', 'Season']\n",
    "\n",
    "bios_prefix = 'skaters_bios_'\n",
    "bios_old_cols = ['Player', 'Team', 'Position', 'Date of Birth', 'Nationality', 'Height (in)',\n",
    "                 'Weight (lbs)', 'Season']\n",
    "bios_new_cols = ['Name', 'Team', 'Position', 'Birth_Date', 'Nationality', 'Height', 'Weight',\n",
    "                 'Season']\n",
    "\n",
    "stats_df = nst_files_to_df(stats_prefix, stats_old_cols, stats_new_cols)\n",
    "bios_df = nst_files_to_df(bios_prefix, bios_old_cols, bios_new_cols)\n",
    "df = pd.merge(stats_df, bios_df, how='left', on=['Name', 'Team', 'Position', 'Season'])"
   ]
  },
  {
   "cell_type": "markdown",
   "metadata": {},
   "source": [
    "### 3. Fill in Missing Seasons with Blank Seasons\n",
    "I'm considering a missing season to be any season that lies between a player's min and max seasons but is not present in the DataFrame. There could be any number of reasons for a player not recording any NHL stats, such as long-term injury, retirement and subsequent return, or season-long demotion to a lower league. In all of those cases a player would have registered zeros for all counting stats, which is what I use for a blank season."
   ]
  },
  {
   "cell_type": "code",
   "execution_count": 3,
   "metadata": {},
   "outputs": [],
   "source": [
    "# Finds which seasons are missing from a player's continuous range of seasons\n",
    "seasons_df = (df.groupby(['Name', 'Birth_Date'])['Season'].unique().reset_index())\n",
    "seasons_df['Season'] = seasons_df['Season'].apply(lambda x: set(x.tolist()))\n",
    "seasons_df['Min'] = seasons_df['Season'].map(min)\n",
    "seasons_df['Max'] = seasons_df['Season'].map(max)\n",
    "seasons_df['All_Seasons'] =\\\n",
    "    [set(range(min, max+1)) for min, max in seasons_df[['Min', 'Max']].values]\n",
    "seasons_df['Missing_Seasons'] = seasons_df['All_Seasons'] - seasons_df['Season']\n",
    "seasons_df = seasons_df[seasons_df['Missing_Seasons'].map(bool)]\n",
    "\n",
    "# I couldn't think of a more elegant solution, so this code brute forces a DataFrame of\n",
    "# fill-ins for the missing seasons\n",
    "fill_ins = []\n",
    "for index, row in seasons_df[['Name', 'Birth_Date', 'Missing_Seasons']].iterrows():\n",
    "    for year in sorted(list(row['Missing_Seasons'])):\n",
    "        mask = ((df['Name'] == row['Name']) &\n",
    "                (df['Birth_Date'] == row['Birth_Date']) &\n",
    "                (df['Season'] < year))\n",
    "        fill_in = df[mask].tail(1)\n",
    "        fill_in['Season'] = year\n",
    "        fill_ins.append(fill_in)\n",
    "fill_in_df = pd.concat(fill_ins)\n",
    "\n",
    "# Resets all counting stats for fill-in rows to zero\n",
    "fill_in_df.iloc[:, 3:13] = 0\n",
    "df = pd.concat([df, fill_in_df])\n",
    "df.sort_values(by=['Name', 'Team', 'Position', 'Season'], inplace=True)\n",
    "df.reset_index(drop=True, inplace=True)"
   ]
  },
  {
   "cell_type": "markdown",
   "metadata": {},
   "source": [
    "### 4. Fix and Format Column Values\n",
    "Birth_Date should be in datetime format and not all of the numeric field values get fully converted, so I fix those issues here."
   ]
  },
  {
   "cell_type": "code",
   "execution_count": 4,
   "metadata": {},
   "outputs": [],
   "source": [
    "df.replace('-', np.nan, inplace=True)\n",
    "df.dropna(how='any', inplace=True)\n",
    "df.reset_index(drop=True, inplace=True)\n",
    "df['Birth_Date'] = pd.to_datetime(df['Birth_Date'], format='%Y-%m-%d')\n",
    "df['Height'] = df['Height'].astype(int)\n",
    "df['Weight'] = df['Weight'].astype(int)"
   ]
  },
  {
   "cell_type": "markdown",
   "metadata": {},
   "source": [
    "### 5. Add Columns Identifying Europeans and Russians\n",
    "European players once had a reputation for being soft, although not as much any more, and Alex Ovechkin once said 'Russian machine never breaks.' These predictors should help test those hypotheses."
   ]
  },
  {
   "cell_type": "code",
   "execution_count": 5,
   "metadata": {},
   "outputs": [],
   "source": [
    "europeans = ['SWE', 'FIN', 'CZE', 'DEU', 'FRA', 'UKR', 'NOR', 'AUT', 'BLR', 'SVK', 'LTU', 'SVN',\n",
    "             'LVA', 'HRV', 'GBR', 'CHE', 'NLD', 'DNK']\n",
    "df['European'] = df['Nationality'].isin(europeans).astype(int)\n",
    "df['Russian'] = (df['Nationality'] == 'RUS').astype(int)"
   ]
  },
  {
   "cell_type": "markdown",
   "metadata": {},
   "source": [
    "### 6. Simplify Position Values\n",
    "By default there are too many different values for the Position predictor, so I narrowed them down to Center (C), Winger (W), and Defense (D). Wingers tend to engage in more physical board battles than centers, so it may be worth keeping both classes."
   ]
  },
  {
   "cell_type": "code",
   "execution_count": 6,
   "metadata": {},
   "outputs": [],
   "source": [
    "# If multiple positions are listed, classify them as defense or winger in that order\n",
    "positions = ['D', 'L', 'R']\n",
    "for position in positions:\n",
    "    mask = df['Position'].str.contains('%s,|, %s' % (position, position))\n",
    "    df.loc[mask, 'Position'] = position\n",
    "# L/R wingers are just wingers\n",
    "df.loc[df['Position'].isin(['L', 'R']), 'Position'] = 'W'"
   ]
  },
  {
   "cell_type": "markdown",
   "metadata": {},
   "source": [
    "### 7. Save Pickle"
   ]
  },
  {
   "cell_type": "code",
   "execution_count": 7,
   "metadata": {},
   "outputs": [],
   "source": [
    "df_pickle = '../data/stats_df.pk'\n",
    "var_to_pickle(df, df_pickle)"
   ]
  },
  {
   "cell_type": "code",
   "execution_count": null,
   "metadata": {},
   "outputs": [],
   "source": []
  }
 ],
 "metadata": {
  "kernelspec": {
   "display_name": "Python 3",
   "language": "python",
   "name": "python3"
  },
  "language_info": {
   "codemirror_mode": {
    "name": "ipython",
    "version": 3
   },
   "file_extension": ".py",
   "mimetype": "text/x-python",
   "name": "python",
   "nbconvert_exporter": "python",
   "pygments_lexer": "ipython3",
   "version": "3.7.3"
  }
 },
 "nbformat": 4,
 "nbformat_minor": 2
}
