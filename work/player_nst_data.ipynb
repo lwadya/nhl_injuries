{
 "cells": [
  {
   "cell_type": "markdown",
   "metadata": {},
   "source": [
    "# Natural Stat Trick Player Data\n",
    "I collected the last ten regular seasons of player statistical, biographical, and biometric data from the website Natural Stat Trick. The site provides easy access to data in CSV form by season, but statistical and biographical data are in separate tables. I combined all of the data into a single table and removed any unnecessary fields."
   ]
  },
  {
   "cell_type": "markdown",
   "metadata": {},
   "source": [
    "### 1. Imports and Functions\n",
    "* **var_to_pickle**: Writes the given variable to a pickle file\n",
    "* **nst_files_to_df**: Loads Natural Stat Trick CSV files that have given prefix from data directory and combines them into a single DataFrame"
   ]
  },
  {
   "cell_type": "code",
   "execution_count": 1,
   "metadata": {},
   "outputs": [],
   "source": [
    "import pandas as pd\n",
    "import numpy as np\n",
    "\n",
    "from luther_code import var_to_pickle, nst_files_to_df"
   ]
  },
  {
   "cell_type": "markdown",
   "metadata": {},
   "source": [
    "### 2. Create DataFrame from CSVs\n",
    "Prefixes are CSV file prefixes for several seasons of files, old_cols are columns I want to keep from the CSV data, and new_cols are new names for the old_cols."
   ]
  },
  {
   "cell_type": "code",
   "execution_count": 2,
   "metadata": {},
   "outputs": [],
   "source": [
    "stats_prefix = 'skaters_stats_'\n",
    "stats_old_cols = ['Player', 'Team', 'Position', 'GP', 'TOI', 'PIM', 'Major', 'Penalties Drawn',\n",
    "                  'Hits', 'Hits Taken', 'Shots Blocked', 'Season']\n",
    "stats_new_cols = ['Name', 'Team', 'Position', 'Games_Played', 'Time_On_Ice', 'Penalty_Minutes',\n",
    "                  'Major_Penalties', 'Penalties_Drawn', 'Hits', 'Hits_Taken', 'Shots_Blocked',\n",
    "                  'Season']\n",
    "\n",
    "bios_prefix = 'skaters_bios_'\n",
    "bios_old_cols = ['Player', 'Team', 'Position', 'Date of Birth', 'Nationality', 'Height (in)',\n",
    "                 'Weight (lbs)', 'Season']\n",
    "bios_new_cols = ['Name', 'Team', 'Position', 'Birth_Date', 'Nationality', 'Height', 'Weight',\n",
    "                 'Season']\n",
    "\n",
    "stats_df = nst_files_to_df(stats_prefix, stats_old_cols, stats_new_cols)\n",
    "bios_df = nst_files_to_df(bios_prefix, bios_old_cols, bios_new_cols)\n",
    "df = pd.merge(stats_df, bios_df, how='left', on=['Name', 'Team', 'Position', 'Season'])"
   ]
  },
  {
   "cell_type": "markdown",
   "metadata": {},
   "source": [
    "### 3. Fix and Format Column Values\n",
    "Birth_Date should be in datetime format and not all of the numeric field values get fully converted, so I fix those issues here."
   ]
  },
  {
   "cell_type": "code",
   "execution_count": 3,
   "metadata": {},
   "outputs": [],
   "source": [
    "df.replace('-', np.nan, inplace=True)\n",
    "df.dropna(how='any', inplace=True)\n",
    "df.reset_index(drop=True, inplace=True)\n",
    "df['Birth_Date'] = pd.to_datetime(df['Birth_Date'], format='%Y-%m-%d')\n",
    "df['Height'] = df['Height'].astype(int)\n",
    "df['Weight'] = df['Weight'].astype(int)"
   ]
  },
  {
   "cell_type": "markdown",
   "metadata": {},
   "source": [
    "### 4. Add Columns Identifying Europeans and Russians\n",
    "European players once had a reputation for being soft, although not as much any more, and Alex Ovechkin once said 'Russian machine never breaks.' These predictors should help test those hypotheses."
   ]
  },
  {
   "cell_type": "code",
   "execution_count": 4,
   "metadata": {},
   "outputs": [],
   "source": [
    "europeans = ['SWE', 'FIN', 'CZE', 'DEU', 'FRA', 'UKR', 'NOR', 'AUT', 'BLR', 'SVK', 'LTU', 'SVN',\n",
    "             'LVA', 'HRV', 'GBR', 'CHE', 'NLD', 'DNK']\n",
    "df['European'] = df['Nationality'].isin(europeans)\n",
    "df['Russian'] = (df['Nationality'] == 'RUS')"
   ]
  },
  {
   "cell_type": "markdown",
   "metadata": {},
   "source": [
    "### 5. Simplify Position Values\n",
    "By default there are too many different values for the Position predictor, so I narrowed them down to Center (C), Winger (W), and Defense (D). Wingers tend to engage in more physical board battles than centers, so it may be worth keeping both classes."
   ]
  },
  {
   "cell_type": "code",
   "execution_count": 5,
   "metadata": {},
   "outputs": [],
   "source": [
    "# If multiple positions are listed, classify them as defense or winger in that order\n",
    "positions = ['D', 'L', 'R']\n",
    "for position in positions:\n",
    "    mask = df['Position'].str.contains('%s,|, %s' % (position, position))\n",
    "    df.loc[mask, 'Position'] = position\n",
    "# L/R wingers are just wingers\n",
    "df.loc[df['Position'].isin(['L', 'R']), 'Position'] = 'W'"
   ]
  },
  {
   "cell_type": "markdown",
   "metadata": {},
   "source": [
    "### 6. Save Pickle"
   ]
  },
  {
   "cell_type": "code",
   "execution_count": 6,
   "metadata": {},
   "outputs": [],
   "source": [
    "df_pickle = '../data/stats_df.pickle'\n",
    "var_to_pickle(df, df_pickle)"
   ]
  },
  {
   "cell_type": "code",
   "execution_count": null,
   "metadata": {},
   "outputs": [],
   "source": []
  }
 ],
 "metadata": {
  "kernelspec": {
   "display_name": "Python 3",
   "language": "python",
   "name": "python3"
  },
  "language_info": {
   "codemirror_mode": {
    "name": "ipython",
    "version": 3
   },
   "file_extension": ".py",
   "mimetype": "text/x-python",
   "name": "python",
   "nbconvert_exporter": "python",
   "pygments_lexer": "ipython3",
   "version": "3.7.1"
  }
 },
 "nbformat": 4,
 "nbformat_minor": 2
}
