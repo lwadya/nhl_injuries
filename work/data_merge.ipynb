{
 "cells": [
  {
   "cell_type": "markdown",
   "metadata": {},
   "source": [
    "# Data Merge\n",
    "Combining my two data sources into a single, useful DataFrame required a fair amount of work. This notebook puts everything together and converts values for analysis. It is dependent on pickle files saved in notebooks **player_injury_data.ipynb** and **player_nst_data.ipynb**."
   ]
  },
  {
   "cell_type": "markdown",
   "metadata": {},
   "source": [
    "### Table of Contents\n",
    "* [1. Imports and Functions](#sec1)\n",
    "* [2. Define List of Season Parameters](#sec2)\n",
    "* [3. Add Season Column to Injuries Dataframe](#sec3)\n",
    "* [4. Make DataFrame of Games Missed due to Injury by Player and Season](#sec4)\n",
    "* [5. Change Games Missed Names to Match Stats Names](#sec5)\n",
    "* [6. Create DataFrame for Missing Game Values for Pre-Stats Seasons](#sec6)\n",
    "* [7. Merge Stats, Games Missed, and Pre-Stats DataFrames](#sec7)\n",
    "* [8. Adjust Games Missed if Total Games Exceeds Games in a Season](#sec8)\n",
    "* [9. Add Time-Related Features](#sec9)\n",
    "* [10. Add Total Games Played column](#sec10)\n",
    "* [11. Branch Off a Separate DataFrame for Player Season Averages](#sec11)\n",
    "* [12. Branch Off a Separate DataFrame for Rolling Averages](#sec12)\n",
    "* [13. Convert Counting Stats to Per Game Stats](#sec13)\n",
    "* [14. Save Pickles](#sec14)"
   ]
  },
  {
   "cell_type": "markdown",
   "metadata": {},
   "source": [
    "<a id='sec1'></a>\n",
    "### 1. Imports and Functions\n",
    "* **var_to_pickle**: Writes the given variable to a pickle file\n",
    "* **read_pickle**: Reads the given pickle file"
   ]
  },
  {
   "cell_type": "code",
   "execution_count": 1,
   "metadata": {},
   "outputs": [],
   "source": [
    "import datetime\n",
    "import numpy as np\n",
    "import pandas as pd\n",
    "from collections import defaultdict\n",
    "\n",
    "from nhl_injuries_code import var_to_pickle, read_pickle\n",
    "\n",
    "%matplotlib inline"
   ]
  },
  {
   "cell_type": "markdown",
   "metadata": {},
   "source": [
    "<a id='sec2'></a>\n",
    "### 2. Define List of Season Parameters\n",
    "Sets the range of seasons I analyzed as well as the number of games per season."
   ]
  },
  {
   "cell_type": "code",
   "execution_count": 2,
   "metadata": {},
   "outputs": [],
   "source": [
    "season_years = list(range(2010,2020))\n",
    "season_month = 9\n",
    "season_day = 1\n",
    "\n",
    "# Every season in data range is 82 games except for lockout-shortened 2013 with 48\n",
    "season_length = defaultdict(lambda:82)\n",
    "season_length[2013] = 48"
   ]
  },
  {
   "cell_type": "markdown",
   "metadata": {},
   "source": [
    "<a id='sec3'></a>\n",
    "### 3. Add Season Column to Injuries Dataframe"
   ]
  },
  {
   "cell_type": "code",
   "execution_count": 3,
   "metadata": {},
   "outputs": [],
   "source": [
    "injuries_df = read_pickle('../data/injuries_df.pk')\n",
    "injuries_df['Season'] = 0\n",
    "min_year = injuries_df['Injury_Date'].min().year\n",
    "max_year = injuries_df['Injury_Date'].max().year + 1\n",
    "season = {min_year - 1:datetime.datetime(min_year - 1, season_month, season_day)}\n",
    "for year in range(min_year, max_year):\n",
    "    season[year] = datetime.datetime(year, season_month, season_day)\n",
    "    mask = ((injuries_df['Injury_Date'] > season[year-1])\n",
    "            & (injuries_df['Injury_Date'] <= season[year]))\n",
    "    injuries_df.loc[mask, 'Season'] = year"
   ]
  },
  {
   "cell_type": "markdown",
   "metadata": {},
   "source": [
    "<a id='sec4'></a>\n",
    "### 4. Make DataFrame of Games Missed due to Injury by Player and Season"
   ]
  },
  {
   "cell_type": "code",
   "execution_count": 4,
   "metadata": {},
   "outputs": [],
   "source": [
    "missed_df = (injuries_df.groupby(['Name', 'Birth_Date', 'Season'], as_index=False).sum())\n",
    "\n",
    "# Cap games missed by injury to season length (seasons may be shortened by lockouts)\n",
    "missed_df.loc[missed_df['Games_Missed'] > season_length[0], 'Games_Missed'] = season_length[0]\n",
    "for key,val in season_length.items():\n",
    "    mask = (missed_df['Season'] == key) & (missed_df['Games_Missed'] > val)\n",
    "    missed_df.loc[mask, 'Games_Missed'] = val"
   ]
  },
  {
   "cell_type": "markdown",
   "metadata": {},
   "source": [
    "<a id='sec5'></a>\n",
    "### 5. Change Games Missed Names to Match Stats Names\n",
    "The inconsistencies are due to the two data sets coming from different sources."
   ]
  },
  {
   "cell_type": "code",
   "execution_count": 5,
   "metadata": {},
   "outputs": [],
   "source": [
    "name_changes = [\n",
    "    ('Alex Burmistrov', 'Alexander Burmistrov'),\n",
    "    ('Alexander Petrovic', 'Alex Petrovic'),\n",
    "    ('Alexei Marchenko', 'Alexey Marchenko'),\n",
    "    ('Matt Benning', 'Matthew Benning'),\n",
    "    ('Michael Cammalleri', 'Mike Cammalleri'),\n",
    "    ('Mike Sauer', 'Michael Sauer'),\n",
    "    ('Mike Zigomanis', 'Michael Zigomanis'),\n",
    "    ('P.A. Parenteau', 'PA Parenteau'),\n",
    "    ('T.J. Brodie', 'TJ Brodie'),\n",
    "    ('T.J. Galiardi', 'TJ Galiardi')\n",
    "]\n",
    "for old_name,new_name in name_changes:\n",
    "    missed_df.loc[missed_df['Name'] == old_name, 'Name'] = new_name"
   ]
  },
  {
   "cell_type": "markdown",
   "metadata": {},
   "source": [
    "<a id='sec6'></a>\n",
    "### 6. Create DataFrame for Missing Game Values for Pre-Stats Seasons\n",
    "The stats DataFrame contains all of the seasons that comprise my data set, but I needed some additional injury data from earlier seasons to properly calculate numbers for the prior injuries columns as many players started their careers before the range of study."
   ]
  },
  {
   "cell_type": "code",
   "execution_count": 6,
   "metadata": {},
   "outputs": [],
   "source": [
    "pre_stats = (missed_df[missed_df['Season'] < season_years[0]]\n",
    "             .sort_values(by=['Name', 'Birth_Date', 'Season'])\n",
    "             .reset_index(drop=True))\n",
    "groupby = pre_stats.groupby(['Name', 'Birth_Date'])\n",
    "last_missed = groupby['Games_Missed'].last()\n",
    "first_season = groupby['Season'].first()\n",
    "last_season = groupby['Season'].last()\n",
    "total_missed = groupby['Games_Missed'].sum()\n",
    "pre_stats = (pd.concat([total_missed, last_missed, first_season, last_season], axis=1)\n",
    "               .reset_index())\n",
    "pre_stats.columns = ['Name', 'Birth_Date', 'Pre_TGM', 'Pre_GM', 'First', 'Last']\n",
    "pre_stats['Pre_NS'] = season_years[0] - pre_stats['First']\n",
    "pre_stats.loc[pre_stats['First'] < 2005, 'Pre_NS'] -= 1\n",
    "pre_stats.loc[pre_stats['Last'] != season_years[0]-1, 'Pre_GM'] = 0\n",
    "pre_stats.drop(['First', 'Last'], axis=1, inplace=True)"
   ]
  },
  {
   "cell_type": "markdown",
   "metadata": {},
   "source": [
    "<a id='sec7'></a>\n",
    "### 7. Merge Stats, Games Missed, and Pre-Stats DataFrames\n",
    "Due to some birthday inconsistencies, I only used birthdays to merge players that share the same name."
   ]
  },
  {
   "cell_type": "code",
   "execution_count": 7,
   "metadata": {},
   "outputs": [],
   "source": [
    "stats_df = read_pickle('../data/stats_df.pk')\n",
    "\n",
    "# Not all player birthdays are consistent between DataFrames, so only use Birth_Date as\n",
    "# a merge condition if multiple players share the same name\n",
    "bdays_per_name = stats_df.groupby('Name')['Birth_Date'].nunique()\n",
    "multiple_names = bdays_per_name[(bdays_per_name > 1)].index\n",
    "multiples_df = stats_df[stats_df['Name'].isin(multiple_names)]\n",
    "multiples_df = multiples_df.merge(missed_df, how='left', on=['Name', 'Birth_Date', 'Season'])\n",
    "multiples_df = multiples_df.merge(pre_stats, how='left', on=['Name', 'Birth_Date'])\n",
    "\n",
    "# Recombine multiple name and single name DataFrames\n",
    "df = stats_df[~stats_df['Name'].isin(multiple_names)]\n",
    "df = df.merge(missed_df[['Name', 'Season', 'Games_Missed']], how='left', on=['Name', 'Season'])\n",
    "df = df.merge(pre_stats.drop(['Birth_Date'], axis=1), how='left', on=['Name'])\n",
    "df = df.append(multiples_df)\n",
    "df = df.sort_values(by=['Name', 'Birth_Date', 'Season']).reset_index(drop=True)\n",
    "df.fillna(0, inplace=True)"
   ]
  },
  {
   "cell_type": "markdown",
   "metadata": {},
   "source": [
    "<a id='sec8'></a>\n",
    "### 8. Adjust Games Missed if Total Games Exceeds Games in a Season\n",
    "Total Games equals Games Missed plus Games Played. Some players do actually play more than the regulation number of games due to being traded to a team that has games in hand on their former team. In most situations, total games should less than or equal to the number of games in a season."
   ]
  },
  {
   "cell_type": "code",
   "execution_count": 8,
   "metadata": {},
   "outputs": [],
   "source": [
    "max_missed = (season_length[0] - df['Games_Played']).clip(0, season_length[0])\n",
    "df['Games_Missed'] = df['Games_Missed'].clip(0, max_missed)"
   ]
  },
  {
   "cell_type": "markdown",
   "metadata": {},
   "source": [
    "<a id='sec9'></a>\n",
    "### 9. Add Time-Related Features\n",
    "I added columns for player age by season, games missed last season, and average games missed per season for all previous seasons."
   ]
  },
  {
   "cell_type": "code",
   "execution_count": 9,
   "metadata": {},
   "outputs": [],
   "source": [
    "# Age per season\n",
    "season_starts = df['Season'].apply(lambda x: season[x])\n",
    "df['Age'] = (season_starts - df['Birth_Date']).dt.days // 365\n",
    "\n",
    "# Games Missed last season\n",
    "df['Last_Games_Missed'] = df.groupby(['Name', 'Birth_Date'])['Games_Missed'].shift(1)\n",
    "df.loc[df['Season'] == season_years[0], 'Last_Games_Missed'] = df['Pre_GM']\n",
    "df['Last_Games_Missed'] = df['Last_Games_Missed'].fillna(0).astype(int)\n",
    "\n",
    "# Average Games Missed for all previous seasons\n",
    "df_temp1 = df[['Name', 'Birth_Date', 'Season']]\n",
    "df_temp2 = df[['Name', 'Birth_Date', 'Season', 'Games_Missed']]\n",
    "df_temp1 = pd.merge(df_temp1, df_temp2, on=['Name', 'Birth_Date'])\n",
    "df_temp1 = df_temp1[df_temp1['Season_x'] > df_temp1['Season_y']]\n",
    "groupby = df_temp1.groupby(['Name', 'Birth_Date', 'Season_x'])\n",
    "df_temp1 = groupby[['Games_Missed']].sum()\n",
    "df_temp1['NS'] = groupby['Games_Missed'].count()\n",
    "df_temp1.reset_index(inplace=True)\n",
    "df_temp1.rename(columns={'Season_x':'Season', 'Games_Missed':'TGM'}, inplace=True)\n",
    "df = df.merge(df_temp1, how='left', on=['Name', 'Birth_Date', 'Season'])\n",
    "df['TGM'].fillna(0, inplace=True)\n",
    "df['NS'].fillna(0, inplace=True)\n",
    "df['Avg_Games_Missed'] = (df['TGM'] + df['Pre_TGM']) / (df['NS'] + df['Pre_NS'])\n",
    "df['Avg_Games_Missed'] = df['Avg_Games_Missed'].fillna(0)\n",
    "df.drop(['Pre_TGM', 'Pre_GM', 'Pre_NS', 'TGM', 'NS'], axis=1, inplace=True)"
   ]
  },
  {
   "cell_type": "markdown",
   "metadata": {},
   "source": [
    "<a id='sec10'></a>\n",
    "### 10. Add Total Games Played column\n",
    "I used Total Games Played to calculate per-game averages for the player totals DataFrame as well as to filter out players who do not play consistently in the NHL or barely overlapped with my time range. Ideally I could utilize minor league injury data, but that is even more difficult to find than NHL injury data."
   ]
  },
  {
   "cell_type": "code",
   "execution_count": 10,
   "metadata": {},
   "outputs": [],
   "source": [
    "total_games = df.groupby(['Name', 'Birth_Date'], as_index=False)['Games_Played'].sum()\n",
    "total_games.rename(columns={'Games_Played':'Total_Games_Played'}, inplace=True)\n",
    "df = df.merge(total_games, how='left', on=['Name', 'Birth_Date'])"
   ]
  },
  {
   "cell_type": "markdown",
   "metadata": {},
   "source": [
    "<a id='sec11'></a>\n",
    "### 11. Branch Off a Separate DataFrame for Player Season Averages\n",
    "This separate DataFrame attempts to capture a player's 'typical' season for the range of observed seasons. All counting stats are averaged by season instead of by Games Played as in the main DataFrame."
   ]
  },
  {
   "cell_type": "code",
   "execution_count": 11,
   "metadata": {},
   "outputs": [],
   "source": [
    "per_game_stats = ['Time_On_Ice', 'Points', 'Shots', 'Penalty_Minutes',\n",
    "                  'Major_Penalties', 'Penalties_Drawn', 'Hits', 'Hits_Taken',\n",
    "                  'Shots_Blocked']\n",
    "groupby = df.groupby(['Name', 'Birth_Date'], as_index=False)\n",
    "player_df = groupby[per_game_stats].sum()\n",
    "df_temp1 = groupby[['Games_Missed', 'Age']].mean()\n",
    "df_temp2 = groupby[['Position', 'Height', 'Weight', 'Nationality', 'European',\n",
    "                    'Russian', 'Total_Games_Played']].last()\n",
    "player_df = player_df.merge(df_temp1, how='left', on=['Name', 'Birth_Date'])\n",
    "player_df = player_df.merge(df_temp2, how='left', on=['Name', 'Birth_Date'])\n",
    "player_df.reset_index(drop=True, inplace=True)"
   ]
  },
  {
   "cell_type": "markdown",
   "metadata": {},
   "source": [
    "<a id='sec12'></a>\n",
    "### 12. Branch Off a Separate DataFrame for Rolling Averages\n",
    "This DataFrame essentially combines the other two by holding both per-season counting stats as well as a rolling average of counting stats from all previous seasons."
   ]
  },
  {
   "cell_type": "code",
   "execution_count": 12,
   "metadata": {},
   "outputs": [],
   "source": [
    "df_temp1 = df[['Name', 'Birth_Date', 'Season']]\n",
    "df_temp2 = df[['Name', 'Birth_Date', 'Season', 'Games_Played'] + per_game_stats]\n",
    "df_temp1 = pd.merge(df_temp1, df_temp2, on=['Name', 'Birth_Date'])\n",
    "df_temp1 = df_temp1[df_temp1['Season_x'] > df_temp1['Season_y']]\n",
    "groupby = df_temp1.groupby(['Name', 'Birth_Date', 'Season_x'])\n",
    "df_temp1 = groupby.sum()\n",
    "df_temp1.drop(['Season_y'], axis=1, inplace=True)\n",
    "avg_cols = ['Avg_%s' % col for col in df_temp1.columns]\n",
    "df_temp1.columns = avg_cols\n",
    "df_temp1['NS'] = groupby['Games_Played'].count()\n",
    "df_temp1.reset_index(inplace=True)\n",
    "df_temp1.rename(columns={'Season_x':'Season'}, inplace=True)\n",
    "rolling_df = df.merge(df_temp1, how='left', on=['Name', 'Birth_Date', 'Season'])\n",
    "rolling_df['NS'].fillna(0, inplace=True)\n",
    "for col in avg_cols[1:]:\n",
    "    rolling_df[col] = rolling_df[col] / rolling_df[avg_cols[0]]\n",
    "rolling_df[avg_cols[0]] = rolling_df[avg_cols[0]] / rolling_df['NS']\n",
    "rolling_df.drop(['NS'], axis=1, inplace=True)\n",
    "rolling_df.fillna(0, inplace=True)"
   ]
  },
  {
   "cell_type": "markdown",
   "metadata": {},
   "source": [
    "<a id='sec13'></a>\n",
    "### 13. Convert Counting Stats to Per Game Stats\n",
    "I normalized some stat values to account for differences in games played. Converted values are Time on Ice, Points, Shots, Penalty Minutes, Major Penalties, Penalties Drawn, Hits, Hits Taken, and Shots Blocked."
   ]
  },
  {
   "cell_type": "code",
   "execution_count": 13,
   "metadata": {},
   "outputs": [],
   "source": [
    "for stat in per_game_stats:\n",
    "    df[stat] = df[stat] / df['Games_Played']\n",
    "    df[stat] = df[stat].fillna(0)\n",
    "    player_df[stat] = player_df[stat] / player_df['Total_Games_Played']\n",
    "    rolling_df[stat] = rolling_df[stat] / rolling_df['Games_Played']\n",
    "    rolling_df[stat] = rolling_df[stat].fillna(0)"
   ]
  },
  {
   "cell_type": "markdown",
   "metadata": {},
   "source": [
    "<a id='sec14'></a>\n",
    "### 14. Save Pickles"
   ]
  },
  {
   "cell_type": "code",
   "execution_count": 14,
   "metadata": {},
   "outputs": [],
   "source": [
    "df_pickle = '../data/merged_data_df.pk'\n",
    "var_to_pickle(df, df_pickle)\n",
    "player_pickle = '../data/merged_by_player_df.pk'\n",
    "var_to_pickle(player_df, player_pickle)\n",
    "rolling_pickle = '../data/merged_rolling_df.pk'\n",
    "var_to_pickle(rolling_df, rolling_pickle)"
   ]
  },
  {
   "cell_type": "code",
   "execution_count": null,
   "metadata": {},
   "outputs": [],
   "source": []
  }
 ],
 "metadata": {
  "kernelspec": {
   "display_name": "Python 3",
   "language": "python",
   "name": "python3"
  },
  "language_info": {
   "codemirror_mode": {
    "name": "ipython",
    "version": 3
   },
   "file_extension": ".py",
   "mimetype": "text/x-python",
   "name": "python",
   "nbconvert_exporter": "python",
   "pygments_lexer": "ipython3",
   "version": "3.7.3"
  }
 },
 "nbformat": 4,
 "nbformat_minor": 2
}
