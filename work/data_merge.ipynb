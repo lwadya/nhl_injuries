{
 "cells": [
  {
   "cell_type": "markdown",
   "metadata": {},
   "source": [
    "# Data Merge\n",
    "Combining my two data sources into a single, useful DataFrame required a fair amount of work. This notebook puts everything together and converts values for analysis. It is dependent on pickle files saved in notebooks **player_injury_data.ipynb** and **player_nst_data.ipynb**."
   ]
  },
  {
   "cell_type": "markdown",
   "metadata": {},
   "source": [
    "### 1. Imports and Functions\n",
    "* **var_to_pickle**: Writes the given variable to a pickle file\n",
    "* **nst_files_to_df**: Loads Natural Stat Trick CSV files that have given prefix from data directory and combines them into a single DataFrame"
   ]
  },
  {
   "cell_type": "code",
   "execution_count": 1,
   "metadata": {},
   "outputs": [],
   "source": [
    "import datetime\n",
    "import numpy as np\n",
    "import pandas as pd\n",
    "from collections import defaultdict\n",
    "\n",
    "from luther_code import var_to_pickle, read_pickle\n",
    "\n",
    "%matplotlib inline"
   ]
  },
  {
   "cell_type": "markdown",
   "metadata": {},
   "source": [
    "### 2. Define List of Season Parameters\n",
    "Sets the range of seasons I analyzed as well as the number of games per season."
   ]
  },
  {
   "cell_type": "code",
   "execution_count": 2,
   "metadata": {},
   "outputs": [],
   "source": [
    "season_years = list(range(2010,2020))\n",
    "season_month = 9\n",
    "season_day = 1\n",
    "\n",
    "# Every season in data range is 82 games except for lockout-shortened 2013 with 48\n",
    "season_length = defaultdict(lambda:82)\n",
    "season_length[2013] = 48"
   ]
  },
  {
   "cell_type": "markdown",
   "metadata": {},
   "source": [
    "### 3. Add Season Column to Injuries Dataframe"
   ]
  },
  {
   "cell_type": "code",
   "execution_count": 3,
   "metadata": {},
   "outputs": [],
   "source": [
    "injuries_df = read_pickle('../data/injuries_df.pickle')\n",
    "injuries_df['Season'] = 0\n",
    "min_year = injuries_df['Injury_Date'].min().year\n",
    "max_year = injuries_df['Injury_Date'].max().year + 1\n",
    "season = {min_year - 1:datetime.datetime(min_year - 1, season_month, season_day)}\n",
    "for year in range(min_year, max_year):\n",
    "    season[year] = datetime.datetime(year, season_month, season_day)\n",
    "    mask = ((injuries_df['Injury_Date'] > season[year-1])\n",
    "            & (injuries_df['Injury_Date'] <= season[year]))\n",
    "    injuries_df.loc[mask, 'Season'] = year"
   ]
  },
  {
   "cell_type": "markdown",
   "metadata": {},
   "source": [
    "### 4. Make DataFrame of Games Missed due to Injury by Player and Season"
   ]
  },
  {
   "cell_type": "code",
   "execution_count": 4,
   "metadata": {},
   "outputs": [],
   "source": [
    "missed_df = (injuries_df.groupby(['Name', 'Birth_Date', 'Season'], as_index=False).sum())\n",
    "\n",
    "# Cap games missed by injury to season length (seasons may be shortened by lockouts)\n",
    "missed_df.loc[missed_df['Games_Missed'] > season_length[0], 'Games_Missed'] = season_length[0]\n",
    "for key,val in season_length.items():\n",
    "    mask = (missed_df['Season'] == key) & (missed_df['Games_Missed'] > val)\n",
    "    missed_df.loc[mask, 'Games_Missed'] = val"
   ]
  },
  {
   "cell_type": "markdown",
   "metadata": {},
   "source": [
    "### 5. Change Games Missed Names to Match Stats Names\n",
    "The inconsistencies are due to the two data sets coming from different sources."
   ]
  },
  {
   "cell_type": "code",
   "execution_count": 5,
   "metadata": {},
   "outputs": [],
   "source": [
    "name_changes = [\n",
    "    ('Alex Burmistrov', 'Alexander Burmistrov'),\n",
    "    ('Alexander Petrovic', 'Alex Petrovic'),\n",
    "    ('Alexei Marchenko', 'Alexey Marchenko'),\n",
    "    ('Matt Benning', 'Matthew Benning'),\n",
    "    ('Michael Cammalleri', 'Mike Cammalleri'),\n",
    "    ('Mike Sauer', 'Michael Sauer'),\n",
    "    ('Mike Zigomanis', 'Michael Zigomanis'),\n",
    "    ('P.A. Parenteau', 'PA Parenteau'),\n",
    "    ('T.J. Brodie', 'TJ Brodie'),\n",
    "    ('T.J. Galiardi', 'TJ Galiardi')\n",
    "]\n",
    "for old_name,new_name in name_changes:\n",
    "    missed_df.loc[missed_df['Name'] == old_name, 'Name'] = new_name"
   ]
  },
  {
   "cell_type": "markdown",
   "metadata": {},
   "source": [
    "### 6. Merge Stats and Games Missed DataFrames\n",
    "Due to some birthday inconsistencies, I only used birthdays to merge players that share the same name."
   ]
  },
  {
   "cell_type": "code",
   "execution_count": 6,
   "metadata": {},
   "outputs": [],
   "source": [
    "stats_df = read_pickle('../data/stats_df.pickle')\n",
    "\n",
    "# Not all player birthdays are consistent between DataFrames, so only use Birth_Date as\n",
    "# a merge condition if multiple players share the same name\n",
    "bdays_per_name = stats_df.groupby('Name')['Birth_Date'].nunique()\n",
    "multiple_names = bdays_per_name[(bdays_per_name > 1)].index\n",
    "multiples_df = stats_df[stats_df['Name'].isin(multiple_names)]\n",
    "multiples_df = multiples_df.merge(missed_df, how='left', on=['Name', 'Birth_Date', 'Season'])\n",
    "\n",
    "# Recombine multiple name and single name DataFrames\n",
    "df = stats_df[~stats_df['Name'].isin(multiple_names)]\n",
    "df = df.merge(missed_df[['Name', 'Season', 'Games_Missed']], how='left', on=['Name', 'Season'])\n",
    "df = df.append(multiples_df)\n",
    "df = df.sort_values(by=['Name', 'Birth_Date', 'Season']).reset_index(drop=True)\n",
    "df['Games_Missed'] = df['Games_Missed'].fillna(0).astype(int)"
   ]
  },
  {
   "cell_type": "markdown",
   "metadata": {},
   "source": [
    "### 7. Adjust Games Missed if Total Games Exceeds Games in a Season\n",
    "Total Games equals Games Missed plus Games Played. Some players do actually play more than the regulation number of games due to being traded to a team that has games in hand on their former team. In most situations, total games should less than or equal to the number of games in a season."
   ]
  },
  {
   "cell_type": "code",
   "execution_count": 7,
   "metadata": {},
   "outputs": [],
   "source": [
    "max_missed = (season_length[0] - df['Games_Played']).clip(0, season_length[0])\n",
    "df['Games_Missed'] = df['Games_Missed'].clip(0, max_missed)"
   ]
  },
  {
   "cell_type": "markdown",
   "metadata": {},
   "source": [
    "### 8. Convert Counting Stats to Per Game Stats\n",
    "I normalized some stat values to account for differences in games played. Converted values are Time on Ice, Points, Shots, Penalty Minutes, Major Penalties, Penalties Drawn, Hits, Hits Taken, and Shots Blocked."
   ]
  },
  {
   "cell_type": "code",
   "execution_count": 8,
   "metadata": {},
   "outputs": [],
   "source": [
    "stats = ['Time_On_Ice', 'Points', 'Shots', 'Penalty_Minutes', 'Major_Penalties',\n",
    "         'Penalties_Drawn', 'Hits', 'Hits_Taken', 'Shots_Blocked']\n",
    "for stat in stats:\n",
    "    df[stat] = df[stat] / df['Games_Played']\n",
    "    df[stat] = df[stat].fillna(0)"
   ]
  },
  {
   "cell_type": "markdown",
   "metadata": {},
   "source": [
    "### 9. Add Time-Related Features\n",
    "I added columns for player age by season, games missed last season, and average games missed per season for all previous seasons."
   ]
  },
  {
   "cell_type": "code",
   "execution_count": 9,
   "metadata": {},
   "outputs": [],
   "source": [
    "season_starts = df['Season'].apply(lambda x: season[x])\n",
    "df['Age'] = (season_starts - df['Birth_Date']).dt.days // 365\n",
    "\n",
    "df['Last_Games_Missed'] = df.groupby(['Name', 'Birth_Date'])['Games_Missed'].shift(1)\n",
    "df['Last_Games_Missed'] = df['Last_Games_Missed'].fillna(0).astype(int)\n",
    "\n",
    "df_temp1 = df[['Name', 'Birth_Date', 'Season']]\n",
    "df_temp2 = df[['Name', 'Birth_Date', 'Season', 'Games_Missed']]\n",
    "df_temp1 = pd.merge(df_temp1, df_temp2, on=['Name', 'Birth_Date'])\n",
    "df_temp1 = df_temp1[df_temp1['Season_x'] > df_temp1['Season_y']]\n",
    "df_temp1 = df_temp1.groupby(['Name', 'Birth_Date', 'Season_x'])[['Games_Missed']].mean()\n",
    "df_temp1.reset_index(inplace=True)\n",
    "df_temp1.rename(columns={'Season_x':'Season', 'Games_Missed':'Avg_Games_Missed'},\n",
    "                inplace=True)\n",
    "df = df.merge(df_temp1, how='left', on=['Name', 'Birth_Date', 'Season'])\n",
    "df['Avg_Games_Missed'] = df['Avg_Games_Missed'].fillna(0)"
   ]
  },
  {
   "cell_type": "markdown",
   "metadata": {},
   "source": [
    "### 10. Save Pickle"
   ]
  },
  {
   "cell_type": "code",
   "execution_count": 10,
   "metadata": {},
   "outputs": [],
   "source": [
    "df_pickle = '../data/merged_data_df.pickle'\n",
    "var_to_pickle(df, df_pickle)"
   ]
  }
 ],
 "metadata": {
  "kernelspec": {
   "display_name": "Python 3",
   "language": "python",
   "name": "python3"
  },
  "language_info": {
   "codemirror_mode": {
    "name": "ipython",
    "version": 3
   },
   "file_extension": ".py",
   "mimetype": "text/x-python",
   "name": "python",
   "nbconvert_exporter": "python",
   "pygments_lexer": "ipython3",
   "version": "3.7.1"
  }
 },
 "nbformat": 4,
 "nbformat_minor": 2
}
